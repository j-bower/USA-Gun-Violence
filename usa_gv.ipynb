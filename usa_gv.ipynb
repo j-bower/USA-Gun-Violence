{
 "cells": [
  {
   "cell_type": "markdown",
   "metadata": {},
   "source": [
    "This project aims to analyze the trends in gun laws, gun ownership, and gun related deaths in the United States of America (by state)."
   ]
  },
  {
   "cell_type": "code",
   "execution_count": 2,
   "metadata": {},
   "outputs": [],
   "source": [
    "import pandas as pd\n",
    "import matplotlib as plt"
   ]
  },
  {
   "cell_type": "code",
   "execution_count": 3,
   "metadata": {},
   "outputs": [
    {
     "name": "stdout",
     "output_type": "stream",
     "text": [
      "     Notes    State  State Code    Year  Year Code  Deaths  Population  \\\n",
      "0      NaN  Alabama           1  2018.0     2018.0    1064     4887871   \n",
      "1      NaN  Alabama           1  2019.0     2019.0    1076     4903185   \n",
      "2      NaN  Alabama           1  2020.0     2020.0    1141     4921532   \n",
      "3      NaN  Alabama           1  2021.0     2021.0    1315     5039877   \n",
      "4    Total  Alabama           1     NaN        NaN    4596    19752465   \n",
      "..     ...      ...         ...     ...        ...     ...         ...   \n",
      "250    NaN  Wyoming          56  2018.0     2018.0     124      577737   \n",
      "251    NaN  Wyoming          56  2019.0     2019.0     133      578759   \n",
      "252    NaN  Wyoming          56  2020.0     2020.0     154      582328   \n",
      "253    NaN  Wyoming          56  2021.0     2021.0     155      578803   \n",
      "254  Total  Wyoming          56     NaN        NaN     566     2317627   \n",
      "\n",
      "     Crude Rate  Age Adjusted Rate  \n",
      "0          21.8               21.8  \n",
      "1          21.9               22.2  \n",
      "2          23.2               23.6  \n",
      "3          26.1               26.4  \n",
      "4          23.3               23.5  \n",
      "..          ...                ...  \n",
      "250        21.5               21.5  \n",
      "251        23.0               22.3  \n",
      "252        26.4               25.9  \n",
      "253        26.8               26.1  \n",
      "254        24.4               24.0  \n",
      "\n",
      "[255 rows x 9 columns]\n"
     ]
    }
   ],
   "source": [
    "# creating the dataframe\n",
    "df = pd.read_csv('USA-Firearm-Deaths-2018-2021.txt', sep='\\t', header=0, engine='python', skipfooter=51)\n",
    "print(df)"
   ]
  },
  {
   "cell_type": "code",
   "execution_count": null,
   "metadata": {},
   "outputs": [],
   "source": []
  }
 ],
 "metadata": {
  "kernelspec": {
   "display_name": "Python 3",
   "language": "python",
   "name": "python3"
  },
  "language_info": {
   "codemirror_mode": {
    "name": "ipython",
    "version": 3
   },
   "file_extension": ".py",
   "mimetype": "text/x-python",
   "name": "python",
   "nbconvert_exporter": "python",
   "pygments_lexer": "ipython3",
   "version": "3.8.8"
  }
 },
 "nbformat": 4,
 "nbformat_minor": 1
}
